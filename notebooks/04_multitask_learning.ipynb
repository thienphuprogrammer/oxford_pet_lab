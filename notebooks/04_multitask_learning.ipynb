{
 "cells": [
  {
   "cell_type": "raw",
   "metadata": {
    "vscode": {
     "languageId": "raw"
    }
   },
   "source": [
    "# Task 1: Oxford Pet Dataset Exploration\n",
    "\n",
    "This notebook explores the Oxford-IIIT Pet Dataset, which consists of images of various cat and dog breeds.\n",
    "\n",
    "The dataset contains:\n",
    "- 37 different pet categories (breeds)\n",
    "- ~200 images per class\n",
    "- Annotations for classification, detection, and segmentation\n",
    "- Ground truth annotations of breed, head ROI (bounding box), and pixel level trimap segmentation\n",
    "\n",
    "We'll explore the dataset, preprocess it, and visualize its characteristics.\n"
   ]
  },
  {
   "cell_type": "code",
   "execution_count": null,
   "metadata": {},
   "outputs": [],
   "source": [
    "# Import required libraries\n",
    "import os\n",
    "import sys\n",
    "import numpy as np\n",
    "import pandas as pd\n",
    "import matplotlib.pyplot as plt\n",
    "import seaborn as sns\n",
    "import tensorflow as tf\n",
    "import tensorflow_datasets as tfds\n",
    "\n",
    "# Add the project root to the path\n",
    "sys.path.append('..')\n"
   ]
  },
  {
   "cell_type": "code",
   "execution_count": null,
   "metadata": {},
   "outputs": [],
   "source": [
    "# Import project modules\n",
    "from src.src.config.config import Config\n",
    "from src.src.data.dataset_loader import OxfordPetDatasetLoader\n",
    "from src.src.data.preprocessing import DataPreprocessor\n",
    "from src.visualization.data_visualizer import DataVisualizer\n",
    "\n",
    "# Initialize configuration\n",
    "config = Config()\n"
   ]
  },
  {
   "cell_type": "raw",
   "metadata": {
    "vscode": {
     "languageId": "raw"
    }
   },
   "source": [
    "## 1. Load and Explore the Dataset\n",
    "\n",
    "First, we'll load the Oxford Pet dataset using TensorFlow Datasets and explore its structure and content.\n"
   ]
  },
  {
   "cell_type": "code",
   "execution_count": null,
   "metadata": {},
   "outputs": [],
   "source": [
    "# Load the dataset directly using TFDS to examine its structure\n",
    "(train_ds_raw, test_ds_raw), dataset_info = tfds.load(\n",
    "    'oxford_iiit_pet:4.0.0',\n",
    "    split=['train', 'test'],\n",
    "    with_info=True,\n",
    "    as_supervised=False,\n",
    ")\n",
    "\n",
    "# Print dataset info\n",
    "print(f\"Dataset info: {dataset_info}\")\n",
    "print(f\"Features: {dataset_info.features}\")\n",
    "print(f\"Number of classes: {len(dataset_info.features['label'].names)}\")\n",
    "print(f\"Class names: {dataset_info.features['label'].names}\")\n",
    "print(f\"Train samples: {dataset_info.splits['train'].num_examples}\")\n",
    "print(f\"Test samples: {dataset_info.splits['test'].num_examples}\")\n"
   ]
  },
  {
   "cell_type": "code",
   "execution_count": null,
   "metadata": {},
   "outputs": [],
   "source": [
    "# Let's examine a single sample to see its structure\n",
    "sample = next(iter(train_ds_raw))\n",
    "print(\"Sample keys:\", list(sample.keys()))\n",
    "\n",
    "# Print information about each feature\n",
    "for key, value in sample.items():\n",
    "    print(f\"{key}: {type(value)} - {value.shape if hasattr(value, 'shape') else value}\")\n",
    "\n",
    "# Check bounding box format\n",
    "print(f\"Bounding box format: {sample['bbox']}\")\n",
    "print(f\"Bounding box shape: {sample['bbox'].shape}\")\n",
    "print(f\"Bounding box dtype: {sample['bbox'].dtype}\")\n",
    "\n",
    "# Check segmentation mask\n",
    "print(f\"Segmentation mask shape: {sample['segmentation_mask'].shape}\")\n",
    "print(f\"Segmentation mask dtype: {sample['segmentation_mask'].dtype}\")\n",
    "print(f\"Segmentation mask values: {np.unique(sample['segmentation_mask'])}\")\n"
   ]
  },
  {
   "cell_type": "raw",
   "metadata": {
    "vscode": {
     "languageId": "raw"
    }
   },
   "source": [
    "## 2. Visualize Sample Images\n",
    "\n",
    "Let's visualize some sample images along with their bounding boxes and segmentation masks.\n"
   ]
  },
  {
   "cell_type": "code",
   "execution_count": null,
   "metadata": {},
   "outputs": [],
   "source": []
  }
 ],
 "metadata": {
  "language_info": {
   "name": "python"
  }
 },
 "nbformat": 4,
 "nbformat_minor": 2
}
